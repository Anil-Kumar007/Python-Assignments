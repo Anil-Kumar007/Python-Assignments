{
 "cells": [
  {
   "cell_type": "code",
   "execution_count": 1,
   "id": "4b6fd914-8725-426c-9e7a-abfbfaa76a91",
   "metadata": {},
   "outputs": [
    {
     "name": "stdin",
     "output_type": "stream",
     "text": [
      "Enter Your Name:  Ravi\n"
     ]
    }
   ],
   "source": [
    "# 1) Write a code to create a string with your name and print it.\n",
    "name = input(\"Enter Your Name: \")"
   ]
  },
  {
   "cell_type": "code",
   "execution_count": 2,
   "id": "da50f762-2fe7-4d5e-a360-b46bd8bdb575",
   "metadata": {},
   "outputs": [
    {
     "name": "stdout",
     "output_type": "stream",
     "text": [
      "11\n"
     ]
    }
   ],
   "source": [
    "# 2) Write a code to find the length of the string \"Hello World\".\n",
    "checkStrLength = \"Hello World\"\n",
    "print(len(checkStrLength))"
   ]
  },
  {
   "cell_type": "code",
   "execution_count": 4,
   "id": "0b4bd100-cbb2-4c18-9323-7b5c083df5ad",
   "metadata": {},
   "outputs": [
    {
     "name": "stdout",
     "output_type": "stream",
     "text": [
      "Pyt\n"
     ]
    }
   ],
   "source": [
    "# 3) Write a code to slice the first 3 characters from the string \"Python Programming\".\n",
    "strSlicing = \"Python Programming\"\n",
    "print(strSlicing[:3])"
   ]
  },
  {
   "cell_type": "code",
   "execution_count": 5,
   "id": "32a2831d-c1d2-4635-8346-9a5160472c38",
   "metadata": {},
   "outputs": [
    {
     "data": {
      "text/plain": [
       "'HELLO'"
      ]
     },
     "execution_count": 5,
     "metadata": {},
     "output_type": "execute_result"
    }
   ],
   "source": [
    "# 4) Write a code to convert the string \"hello\" to uppercase.\n",
    "str = \"hello\"\n",
    "str.upper()"
   ]
  },
  {
   "cell_type": "code",
   "execution_count": 6,
   "id": "083e5853-2d25-439d-9eba-794d0e06438f",
   "metadata": {},
   "outputs": [
    {
     "data": {
      "text/plain": [
       "'I like orange'"
      ]
     },
     "execution_count": 6,
     "metadata": {},
     "output_type": "execute_result"
    }
   ],
   "source": [
    "# 5) Write a code to replace the word \"apple\" with \"orange\" in the string \"I like apple\".\n",
    "str = \"I like apple\"\n",
    "str.replace('apple','orange')"
   ]
  },
  {
   "cell_type": "code",
   "execution_count": 9,
   "id": "55bde6d3-08e8-488f-a675-38057a48a263",
   "metadata": {},
   "outputs": [
    {
     "data": {
      "text/plain": [
       "[1, 2, 3, 4, 5]"
      ]
     },
     "execution_count": 9,
     "metadata": {},
     "output_type": "execute_result"
    }
   ],
   "source": [
    "# 6) Write a code to create a list with numbers 1 to 5 and print it.\n",
    "num_list = [1, 2, 3, 4, 5]\n",
    "num_list"
   ]
  },
  {
   "cell_type": "code",
   "execution_count": 12,
   "id": "02013358-d7d7-44e2-bc5e-d1726abe98eb",
   "metadata": {},
   "outputs": [
    {
     "data": {
      "text/plain": [
       "[1, 2, 3, 4, 10]"
      ]
     },
     "execution_count": 12,
     "metadata": {},
     "output_type": "execute_result"
    }
   ],
   "source": [
    "# 7) Write a code to append the number 10 to the list [1, 2, 3, 4]\n",
    "num_list = [1, 2, 3, 4]\n",
    "num_list.append(10)\n",
    "num_list"
   ]
  },
  {
   "cell_type": "code",
   "execution_count": 13,
   "id": "ba5c3198-de97-4efa-a0c3-930112fa409b",
   "metadata": {},
   "outputs": [
    {
     "data": {
      "text/plain": [
       "[1, 2, 4, 5]"
      ]
     },
     "execution_count": 13,
     "metadata": {},
     "output_type": "execute_result"
    }
   ],
   "source": [
    "# 8) Write a code to remove the number 3 from the list [1, 2, 3, 4, 5]\n",
    "num_list = [1, 2, 3, 4, 5]\n",
    "num_list.remove(3)\n",
    "num_list"
   ]
  },
  {
   "cell_type": "code",
   "execution_count": 14,
   "id": "5bebbd58-7da5-45af-85ab-009a008b4216",
   "metadata": {},
   "outputs": [
    {
     "data": {
      "text/plain": [
       "'b'"
      ]
     },
     "execution_count": 14,
     "metadata": {},
     "output_type": "execute_result"
    }
   ],
   "source": [
    "# 9) Write a code to access the second element in the list ['a', 'b', 'c', 'd']\n",
    "str_list = ['a', 'b', 'c', 'd']\n",
    "str_list[1]"
   ]
  },
  {
   "cell_type": "code",
   "execution_count": 15,
   "id": "eac1225b-6ef2-4084-9f3c-b31479647594",
   "metadata": {},
   "outputs": [
    {
     "data": {
      "text/plain": [
       "[50, 40, 30, 20, 10]"
      ]
     },
     "execution_count": 15,
     "metadata": {},
     "output_type": "execute_result"
    }
   ],
   "source": [
    "# 10) Write a code to reverse the list [10, 20, 30, 40, 50].\n",
    "rev_list = [10, 20, 30, 40, 50]\n",
    "rev_list[::-1]"
   ]
  },
  {
   "cell_type": "code",
   "execution_count": 1,
   "id": "7ac3f688-e4fa-4c6e-bdc9-b42b4975b123",
   "metadata": {},
   "outputs": [
    {
     "data": {
      "text/plain": [
       "(100, 200, 300)"
      ]
     },
     "execution_count": 1,
     "metadata": {},
     "output_type": "execute_result"
    }
   ],
   "source": [
    "# 11. Write a code to create a tuple with the elements 100, 200, 300 and print it.\n",
    "tupElement = (100, 200, 300)\n",
    "tupElement"
   ]
  },
  {
   "cell_type": "code",
   "execution_count": 33,
   "id": "1326e93e-f0ea-4fe3-9ac5-a30e2f56b6e8",
   "metadata": {},
   "outputs": [
    {
     "data": {
      "text/plain": [
       "'blue'"
      ]
     },
     "execution_count": 33,
     "metadata": {},
     "output_type": "execute_result"
    }
   ],
   "source": [
    "# 12. Write a code to access the second-to-last element of the tuple ('red', 'green', 'blue', 'yellow').\n",
    "color = ('red', 'green', 'blue', 'yellow')\n",
    "second2Last = color[-2]\n",
    "second2Last"
   ]
  },
  {
   "cell_type": "code",
   "execution_count": 32,
   "id": "0ef4b3cb-5dfc-497d-98e0-4a6a75efc652",
   "metadata": {},
   "outputs": [
    {
     "name": "stdout",
     "output_type": "stream",
     "text": [
      "5\n"
     ]
    }
   ],
   "source": [
    "# 13. Write a code to find the minimum number in the tuple (10, 20, 5, 15).\n",
    "min_number = (10, 20, 5, 15)\n",
    "minimum = min_number[0]\n",
    "for number in min_number:\n",
    "    if number < minimum:\n",
    "        minimum = number\n",
    "\n",
    "print(minimum)"
   ]
  },
  {
   "cell_type": "code",
   "execution_count": 34,
   "id": "c76a5097-cfaa-42fe-a149-b86b611255b6",
   "metadata": {},
   "outputs": [
    {
     "name": "stdout",
     "output_type": "stream",
     "text": [
      "1\n"
     ]
    }
   ],
   "source": [
    "# 14. Write a code to find the index of the element \"cat\" in the tuple ('dog', 'cat', 'rabbit').\n",
    "animal = ('dog', 'cat', 'rabbit')\n",
    "print(animal.index('cat'))\n"
   ]
  },
  {
   "cell_type": "code",
   "execution_count": 35,
   "id": "ed2f738d-17b7-4094-b33a-1affe4137f0c",
   "metadata": {},
   "outputs": [
    {
     "name": "stdout",
     "output_type": "stream",
     "text": [
      "Kiwi is available in tuple.\n"
     ]
    }
   ],
   "source": [
    "# 15. Write a code to create a tuple containing three different fruits and check if \"kiwi\" is in it.\n",
    "fruits = ('Apple','Kiwi','Pineapple')\n",
    "if 'Kiwi' in fruits:\n",
    "    print(\"Kiwi is available in tuple.\")\n",
    "else:\n",
    "    print(\"Kiwi is not availablein tuple.\")\n"
   ]
  },
  {
   "cell_type": "code",
   "execution_count": 36,
   "id": "e424fc9a-26f0-498d-8c98-7405d61bf625",
   "metadata": {},
   "outputs": [
    {
     "name": "stdout",
     "output_type": "stream",
     "text": [
      "{'a', 'c', 'b'}\n"
     ]
    }
   ],
   "source": [
    "# 16. Write a code to create a set with the elements 'a', 'b', 'c' and print it.\n",
    "setElements = {'a', 'b', 'c'}\n",
    "print(setElements)\n"
   ]
  },
  {
   "cell_type": "code",
   "execution_count": 38,
   "id": "9b84d304-3ea4-4498-a28c-9654d912cd60",
   "metadata": {},
   "outputs": [
    {
     "data": {
      "text/plain": [
       "set()"
      ]
     },
     "execution_count": 38,
     "metadata": {},
     "output_type": "execute_result"
    }
   ],
   "source": [
    "# 17. Write a code to clear all elements from the set {1, 2, 3, 4, 5}.\n",
    "number = {1, 2, 3, 4, 5}\n",
    "number.clear()\n",
    "number"
   ]
  },
  {
   "cell_type": "code",
   "execution_count": 39,
   "id": "e0ffeadb-2788-4c07-ac18-b038430e84aa",
   "metadata": {},
   "outputs": [
    {
     "data": {
      "text/plain": [
       "{1, 2, 3}"
      ]
     },
     "execution_count": 39,
     "metadata": {},
     "output_type": "execute_result"
    }
   ],
   "source": [
    "# 18. Write a code to remove the element 4 from the set {1, 2, 3, 4}.\n",
    "number = {1, 2, 3, 4}\n",
    "number.remove(4)\n",
    "number"
   ]
  },
  {
   "cell_type": "code",
   "execution_count": 40,
   "id": "5ad0b741-8e80-4c4a-ad7c-68550136d5ab",
   "metadata": {},
   "outputs": [
    {
     "name": "stdout",
     "output_type": "stream",
     "text": [
      "{1, 2, 3, 4, 5}\n"
     ]
    }
   ],
   "source": [
    "# 19. Write a code to find the union of two sets {1, 2, 3} and {3, 4, 5}.\n",
    "set_1 = {1, 2, 3}\n",
    "set_2 = {3, 4, 5}\n",
    "unionSet = set_1.union(set_2)\n",
    "print(unionSet)"
   ]
  },
  {
   "cell_type": "code",
   "execution_count": 41,
   "id": "8218b2dc-3e16-47d8-be38-5c44b7848102",
   "metadata": {},
   "outputs": [
    {
     "name": "stdout",
     "output_type": "stream",
     "text": [
      "{3}\n"
     ]
    }
   ],
   "source": [
    "# 20. Write a code to find the intersection of two sets {1, 2, 3} and {2, 3, 4}.\n",
    "set_1 = {1, 2, 3}\n",
    "set_2 = {3, 4, 5}\n",
    "intersectionSet = set_1.intersection(set_2)\n",
    "print(intersectionSet)\n"
   ]
  },
  {
   "cell_type": "code",
   "execution_count": 42,
   "id": "f8743c62-391a-4d2d-8cfd-9c62aae8fedb",
   "metadata": {},
   "outputs": [
    {
     "data": {
      "text/plain": [
       "{'name': 'Jayson', 'age': 30, 'city': 'New York'}"
      ]
     },
     "execution_count": 42,
     "metadata": {},
     "output_type": "execute_result"
    }
   ],
   "source": [
    "# 21. Write a code to create a dictionary with the keys \"name\", \"age\", and \"city\", and print it.\n",
    "employee = {\n",
    "    \"name\": 'Jayson',\n",
    "    \"age\": 30,\n",
    "    \"city\": 'New York'\n",
    "}\n",
    "employee"
   ]
  },
  {
   "cell_type": "code",
   "execution_count": 43,
   "id": "6fee10d1-80d8-4bf0-8d8a-bdf73200eeba",
   "metadata": {},
   "outputs": [
    {
     "name": "stdout",
     "output_type": "stream",
     "text": [
      "{'Name': 'John', 'age': 25, 'country': 'USA'}\n"
     ]
    }
   ],
   "source": [
    "# 22. Write a code to add a new key-value pair \"country\": \"USA\" to the dictionary {'name': 'John', 'age': 25}.\n",
    "employee = {\n",
    "    \"Name\": 'John',\n",
    "    \"age\" : 25\n",
    "}\n",
    "\n",
    "employee['country'] = \"USA\"\n",
    "print(employee)\n"
   ]
  },
  {
   "cell_type": "code",
   "execution_count": 3,
   "id": "443c81bf-6b09-4535-80b6-8efc7eaaa73f",
   "metadata": {},
   "outputs": [
    {
     "name": "stdout",
     "output_type": "stream",
     "text": [
      "Alice\n",
      "30\n"
     ]
    }
   ],
   "source": [
    "# 23. Write a code to access the value associated with the key \"name\" in the dictionary {'name': 'Alice', 'age': 30}.\n",
    "employee = {\n",
    "    \"Name\": 'Alice',\n",
    "    \"age\" : 30\n",
    "}\n",
    "\n",
    "for value in employee.values():\n",
    "    print(value)"
   ]
  },
  {
   "cell_type": "code",
   "execution_count": 12,
   "id": "15c5167f-b1e0-488c-94f1-e0c68abe1be6",
   "metadata": {},
   "outputs": [
    {
     "name": "stdout",
     "output_type": "stream",
     "text": [
      "Set: {'cherry', 'apple', 'banana'}\n"
     ]
    }
   ],
   "source": [
    "# 24. Write a code to remove the key \"age\" from the dictionary {'name': 'Bob', 'age': 22, 'city': 'New York'}.\n",
    "employee = {\n",
    "    'name': 'Bob', \n",
    "    'age': 22, \n",
    "    'city': 'New York'\n",
    "}\n",
    "\n",
    "employee.pop(\"age\")\n",
    "\n",
    "employee\n",
    "\n"
   ]
  },
  {
   "cell_type": "code",
   "execution_count": 13,
   "id": "a7fbbbb5-3ac2-465f-837b-20340c632f2c",
   "metadata": {},
   "outputs": [
    {
     "name": "stdout",
     "output_type": "stream",
     "text": [
      "Key 'city' exists in the dictionary.\n"
     ]
    }
   ],
   "source": [
    "# 25. Write a code to check if the key \"city\" exists in the dictionary {'name': 'Alice', 'city': 'Paris'}.\n",
    "employee = {\n",
    "    'name': 'Alice', \n",
    "    'city': 'Paris'\n",
    "}\n",
    "\n",
    "if 'city' in employee:\n",
    "    print(\"Key 'city' exists in the dictionary.\")\n",
    "else:\n",
    "    print(\"Key 'city' does not exist in the dictionary.\")\n",
    "\n"
   ]
  },
  {
   "cell_type": "code",
   "execution_count": 14,
   "id": "ac63dab0-2973-4550-8e83-87787e2f9be2",
   "metadata": {},
   "outputs": [
    {
     "name": "stdout",
     "output_type": "stream",
     "text": [
      "List: [1, 2, 3, 4, 5]\n",
      "Tuple: ('apple', 'banana', 'cherry')\n",
      "Dictionary: {'name': 'Alice', 'age': 30, 'city': 'Paris'}\n"
     ]
    }
   ],
   "source": [
    "# 26. Write a code to create a list, a tuple, and a dictionary, and print them all.\n",
    "# Creating a list\n",
    "my_list = [1, 2, 3, 4, 5]\n",
    "\n",
    "# Creating a tuple\n",
    "my_tuple = ('apple', 'banana', 'cherry')\n",
    "\n",
    "# Creating a dictionary\n",
    "my_dict = {\n",
    "    'name': 'Alice',\n",
    "    'age': 30,\n",
    "    'city': 'Paris'\n",
    "}\n",
    "\n",
    "# Printing them all\n",
    "print(\"List:\", my_list)\n",
    "print(\"Tuple:\", my_tuple)\n",
    "print(\"Dictionary:\", my_dict)\n"
   ]
  },
  {
   "cell_type": "code",
   "execution_count": 16,
   "id": "8492b0dd-1ee4-40c0-8c7d-d29f5bf2dc44",
   "metadata": {},
   "outputs": [
    {
     "name": "stdout",
     "output_type": "stream",
     "text": [
      "Sorted random numbers: [10, 39, 43, 46, 61]\n"
     ]
    }
   ],
   "source": [
    "# 27. Write a code to create a list of 5 random numbers between 1 and 100, sort it in ascending order, and print the result.(replaced)\n",
    "\n",
    "import random\n",
    "# Create a list of 5 random numbers between 1 and 100\n",
    "random_numbers = [random.randint(1, 100) for _ in range(5)]\n",
    "\n",
    "# Sort the list in ascending order\n",
    "random_numbers.sort()\n",
    "\n",
    "# Print the result\n",
    "print(\"Sorted random numbers:\", random_numbers)\n",
    "\n"
   ]
  },
  {
   "cell_type": "code",
   "execution_count": 17,
   "id": "7f7607dd-9110-447e-a058-44b5c076fbe4",
   "metadata": {},
   "outputs": [
    {
     "name": "stdout",
     "output_type": "stream",
     "text": [
      "Element at index 3: date\n"
     ]
    }
   ],
   "source": [
    "# 28. Write a code to create a list with strings and print the element at the third index.\n",
    "\n",
    "# Create a list of strings\n",
    "fruits = [\"apple\", \"banana\", \"cherry\", \"date\", \"elderberry\"]\n",
    "\n",
    "# Print the element at the third index\n",
    "print(\"Element at index 3:\", fruits[3])\n",
    "\n"
   ]
  },
  {
   "cell_type": "code",
   "execution_count": 18,
   "id": "36183a25-89ca-44a0-aef0-8ed32363024c",
   "metadata": {},
   "outputs": [
    {
     "name": "stdout",
     "output_type": "stream",
     "text": [
      "Combined Dictionary: {'name': 'Alice', 'age': 25, 'city': 'Paris', 'country': 'France'}\n"
     ]
    }
   ],
   "source": [
    "# 29. Write a code to combine two dictionaries into one and print the result.\n",
    "\n",
    "# Define two dictionaries\n",
    "dict1 = {'name': 'Alice', 'age': 25}\n",
    "dict2 = {'city': 'Paris', 'country': 'France'}\n",
    "\n",
    "# Combine the dictionaries\n",
    "combined_dict = {**dict1, **dict2}\n",
    "\n",
    "# Print the result\n",
    "print(\"Combined Dictionary:\", combined_dict)\n",
    "\n"
   ]
  },
  {
   "cell_type": "code",
   "execution_count": 20,
   "id": "40bff98b-cd27-47d8-abeb-52e186404b6e",
   "metadata": {},
   "outputs": [
    {
     "name": "stdout",
     "output_type": "stream",
     "text": [
      "Set: {'cherry', 'apple', 'banana'}\n"
     ]
    }
   ],
   "source": [
    "# 30. Write a code to convert a list of strings into a set.\n",
    "\n",
    "# Create a list of strings\n",
    "string_list = [\"apple\", \"banana\", \"cherry\", \"apple\", \"banana\"]\n",
    "\n",
    "# # Convert the list into a set\n",
    "string_set = set(string_list)\n",
    "\n",
    "# # Print the result\n",
    "print(\"Set:\", string_set)\n"
   ]
  },
  {
   "cell_type": "code",
   "execution_count": null,
   "id": "b44596c8-751e-40fd-baa5-e5fdf0ffa3c7",
   "metadata": {},
   "outputs": [],
   "source": []
  }
 ],
 "metadata": {
  "kernelspec": {
   "display_name": "Python 3 (ipykernel)",
   "language": "python",
   "name": "python3"
  },
  "language_info": {
   "codemirror_mode": {
    "name": "ipython",
    "version": 3
   },
   "file_extension": ".py",
   "mimetype": "text/x-python",
   "name": "python",
   "nbconvert_exporter": "python",
   "pygments_lexer": "ipython3",
   "version": "3.13.2"
  }
 },
 "nbformat": 4,
 "nbformat_minor": 5
}
