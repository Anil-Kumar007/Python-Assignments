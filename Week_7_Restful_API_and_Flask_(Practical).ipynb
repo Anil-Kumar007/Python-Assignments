{
 "cells": [
  {
   "cell_type": "code",
   "execution_count": null,
   "id": "9811ba4c",
   "metadata": {},
   "outputs": [
    {
     "name": "stdout",
     "output_type": "stream",
     "text": [
      " * Serving Flask app '__main__'\n",
      " * Debug mode: off\n"
     ]
    },
    {
     "name": "stderr",
     "output_type": "stream",
     "text": [
      "WARNING: This is a development server. Do not use it in a production deployment. Use a production WSGI server instead.\n",
      " * Running on http://127.0.0.1:5000\n",
      "Press CTRL+C to quit\n"
     ]
    }
   ],
   "source": [
    "'''01. How do you create a basic Flask application.'''\n",
    "from flask import Flask\n",
    "app = Flask(__name__)\n",
    "\n",
    "@app.route('/')\n",
    "def hello():\n",
    "    return 'Hello, World!'\n",
    "if __name__ == '__main__':\n",
    "    app.run()"
   ]
  },
  {
   "cell_type": "code",
   "execution_count": null,
   "id": "5766e53b",
   "metadata": {},
   "outputs": [
    {
     "name": "stdout",
     "output_type": "stream",
     "text": [
      " * Serving Flask app '__main__'\n",
      " * Debug mode: off\n"
     ]
    },
    {
     "name": "stderr",
     "output_type": "stream",
     "text": [
      "WARNING: This is a development server. Do not use it in a production deployment. Use a production WSGI server instead.\n",
      " * Running on http://127.0.0.1:5000\n",
      "Press CTRL+C to quit\n"
     ]
    }
   ],
   "source": [
    "'''02. How do you serve static files like images or CSS in Flask.'''\n",
    "from flask import Flask, send_from_directory\n",
    "app = Flask(__name__)\n",
    "# Serve static files\n",
    "@app.route('/static/<path:path>')\n",
    "def send_static(path):\n",
    "    return send_from_directory('static', path)\n",
    "if __name__ == '__main__':\n",
    "    app.run()"
   ]
  },
  {
   "cell_type": "code",
   "execution_count": 6,
   "id": "d6f841f1",
   "metadata": {},
   "outputs": [
    {
     "name": "stdout",
     "output_type": "stream",
     "text": [
      " * Serving Flask app '__main__'\n",
      " * Debug mode: on\n"
     ]
    },
    {
     "name": "stderr",
     "output_type": "stream",
     "text": [
      "WARNING: This is a development server. Do not use it in a production deployment. Use a production WSGI server instead.\n",
      " * Running on http://127.0.0.1:5000\n",
      "Press CTRL+C to quit\n",
      " * Restarting with stat\n"
     ]
    },
    {
     "ename": "SystemExit",
     "evalue": "1",
     "output_type": "error",
     "traceback": [
      "An exception has occurred, use %tb to see the full traceback.\n",
      "\u001b[31mSystemExit\u001b[39m\u001b[31m:\u001b[39m 1\n"
     ]
    }
   ],
   "source": [
    "'''03. How do you define different routes with different HTTP methods in Flask.'''\n",
    "from flask import Flask, request, jsonify\n",
    "\n",
    "app = Flask(__name__)\n",
    "\n",
    "# Define a route for GET method\n",
    "@app.route('/users', methods=['GET'])\n",
    "def get_users():\n",
    "    # Handle GET request logic\n",
    "    return jsonify({\"message\": \"Getting users\"})\n",
    "\n",
    "# Define a route for POST method\n",
    "@app.route('/users', methods=['POST'])\n",
    "def create_user():\n",
    "    # Handle POST request logic\n",
    "    data = request.json\n",
    "    return jsonify({\"message\": \"User created\", \"data\": data})\n",
    "\n",
    "# Define a route for PUT method\n",
    "@app.route('/users/1', methods=['PUT'])\n",
    "def update_user():\n",
    "    # Handle PUT request logic\n",
    "    data = request.json\n",
    "    return jsonify({\"message\": \"User updated\", \"data\": data})\n",
    "\n",
    "# Define a route for DELETE method\n",
    "@app.route('/users/1', methods=['DELETE'])\n",
    "def delete_user():\n",
    "    # Handle DELETE request logic\n",
    "    return jsonify({\"message\": \"User deleted\"})\n",
    "\n",
    "if __name__ == '__main__':\n",
    "    app.run(debug=True)"
   ]
  },
  {
   "cell_type": "code",
   "execution_count": null,
   "id": "4c413be6",
   "metadata": {},
   "outputs": [
    {
     "name": "stdout",
     "output_type": "stream",
     "text": [
      " * Serving Flask app '__main__'\n",
      " * Debug mode: off\n"
     ]
    },
    {
     "name": "stderr",
     "output_type": "stream",
     "text": [
      "WARNING: This is a development server. Do not use it in a production deployment. Use a production WSGI server instead.\n",
      " * Running on http://127.0.0.1:5000\n",
      "Press CTRL+C to quit\n"
     ]
    }
   ],
   "source": [
    "'''04. How do you render HTML templates in Flask.'''\n",
    "from flask import Flask, render_template\n",
    "\n",
    "app = Flask(__name__)\n",
    " \n",
    "@app.route('/')\n",
    "def index():\n",
    "    return render_template('index.html')\n",
    "\n",
    "if __name__ == '__main__':\n",
    "    app.run()"
   ]
  },
  {
   "cell_type": "code",
   "execution_count": null,
   "id": "4ca15ef4",
   "metadata": {},
   "outputs": [
    {
     "name": "stdout",
     "output_type": "stream",
     "text": [
      "/\n",
      "/user/John%20Doe\n"
     ]
    },
    {
     "data": {
      "text/plain": [
       "\"\\nExplanation:\\n\\n1. url_for takes the endpoint name (function name) as the first argument.\\n2. Pass keyword arguments for route parameters.\\n\\nUse cases:\\n\\n1. Generating URLs in templates: {{ url_for('index') }}\\n2. Redirecting: redirect(url_for('index'))\\n\\nBenefits:\\n\\n1. URL generation is automatic.\\n2. Handles route parameter encoding.\\n\\nNeed more help or examples?\""
      ]
     },
     "execution_count": 3,
     "metadata": {},
     "output_type": "execute_result"
    }
   ],
   "source": [
    "'''05. How can you generate URLs for routes in Flask using url_for.'''\n",
    "from flask import Flask, url_for\n",
    "\n",
    "app = Flask(__name__)\n",
    "\n",
    "@app.route('/')\n",
    "def index():\n",
    "    return 'Index Page'\n",
    "\n",
    "@app.route('/user/<username>')\n",
    "def show_user_profile(username):\n",
    "    return f'User {username}'\n",
    "\n",
    "with app.test_request_context():\n",
    "    print(url_for('index'))  # Output: /\n",
    "    print(url_for('show_user_profile', username='John Doe'))  # Output: /user/John%20Doe"
   ]
  },
  {
   "cell_type": "code",
   "execution_count": null,
   "id": "769dc829",
   "metadata": {},
   "outputs": [
    {
     "name": "stdout",
     "output_type": "stream",
     "text": [
      " * Serving Flask app '__main__'\n",
      " * Debug mode: on\n"
     ]
    },
    {
     "name": "stderr",
     "output_type": "stream",
     "text": [
      "WARNING: This is a development server. Do not use it in a production deployment. Use a production WSGI server instead.\n",
      " * Running on http://127.0.0.1:5000\n",
      "Press CTRL+C to quit\n",
      " * Restarting with stat\n"
     ]
    },
    {
     "ename": "SystemExit",
     "evalue": "1",
     "output_type": "error",
     "traceback": [
      "An exception has occurred, use %tb to see the full traceback.\n",
      "\u001b[31mSystemExit\u001b[39m\u001b[31m:\u001b[39m 1\n"
     ]
    },
    {
     "name": "stderr",
     "output_type": "stream",
     "text": [
      "c:\\Users\\laxmi\\AppData\\Local\\Programs\\Python\\Python313\\Lib\\site-packages\\IPython\\core\\interactiveshell.py:3678: UserWarning: To exit: use 'exit', 'quit', or Ctrl-D.\n",
      "  warn(\"To exit: use 'exit', 'quit', or Ctrl-D.\", stacklevel=1)\n"
     ]
    }
   ],
   "source": [
    "'''06. How do you handle forms in Flask.'''\n",
    "from flask import Flask, request\n",
    "\n",
    "app = Flask(__name__)\n",
    "\n",
    "@app.route('/submit', methods=['POST'])\n",
    "def handle_form():\n",
    "    name = request.form['name']\n",
    "    email = request.form['email']\n",
    "    # Process form data\n",
    "    return 'Form submitted successfully'\n",
    "\n",
    "@app.route('/form')\n",
    "def show_form():\n",
    "    return \n",
    "if __name__ == '__main__':\n",
    "    app.run(debug=True)"
   ]
  },
  {
   "cell_type": "code",
   "execution_count": null,
   "id": "7973779e",
   "metadata": {},
   "outputs": [
    {
     "name": "stdout",
     "output_type": "stream",
     "text": [
      " * Serving Flask app '__main__'\n",
      " * Debug mode: on\n"
     ]
    },
    {
     "name": "stderr",
     "output_type": "stream",
     "text": [
      "WARNING: This is a development server. Do not use it in a production deployment. Use a production WSGI server instead.\n",
      " * Running on http://127.0.0.1:5000\n",
      "Press CTRL+C to quit\n",
      " * Restarting with stat\n"
     ]
    },
    {
     "ename": "SystemExit",
     "evalue": "1",
     "output_type": "error",
     "traceback": [
      "An exception has occurred, use %tb to see the full traceback.\n",
      "\u001b[31mSystemExit\u001b[39m\u001b[31m:\u001b[39m 1\n"
     ]
    }
   ],
   "source": [
    "'''07. How can you validate form data in Flask.'''\n",
    "from flask import Flask, render_template, redirect, url_for\n",
    "from flask_wtf import FlaskForm\n",
    "from wtforms import StringField, SubmitField\n",
    "from wtforms.validators import DataRequired, Email\n",
    "\n",
    "app = Flask(__name__)\n",
    "app.config['SECRET_KEY'] = 'secret_key'\n",
    "\n",
    "class MyForm(FlaskForm):\n",
    "    name = StringField('Name', validators=[DataRequired()])\n",
    "    email = StringField('Email', validators=[DataRequired(), Email()])\n",
    "    submit = SubmitField('Submit')\n",
    "\n",
    "@app.route('/form', methods=['GET', 'POST'])\n",
    "def handle_form():\n",
    "    form = MyForm()\n",
    "    if form.validate_on_submit():\n",
    "        name = form.name.data\n",
    "        email = form.email.data\n",
    "        # Process form data\n",
    "        return redirect(url_for('success'))\n",
    "    return render_template('form.html', form=form)\n",
    "\n",
    "@app.route('/success')\n",
    "def success():\n",
    "    return 'Form submitted successfully'\n",
    "\n",
    "if __name__ == '__main__':\n",
    "    app.run(debug=True)"
   ]
  },
  {
   "cell_type": "code",
   "execution_count": null,
   "id": "423eb265",
   "metadata": {},
   "outputs": [
    {
     "name": "stdout",
     "output_type": "stream",
     "text": [
      " * Serving Flask app '__main__'\n",
      " * Debug mode: on\n"
     ]
    },
    {
     "name": "stderr",
     "output_type": "stream",
     "text": [
      "WARNING: This is a development server. Do not use it in a production deployment. Use a production WSGI server instead.\n",
      " * Running on http://127.0.0.1:5000\n",
      "Press CTRL+C to quit\n",
      " * Restarting with stat\n"
     ]
    },
    {
     "ename": "SystemExit",
     "evalue": "1",
     "output_type": "error",
     "traceback": [
      "An exception has occurred, use %tb to see the full traceback.\n",
      "\u001b[31mSystemExit\u001b[39m\u001b[31m:\u001b[39m 1\n"
     ]
    },
    {
     "name": "stderr",
     "output_type": "stream",
     "text": [
      "c:\\Users\\laxmi\\flask_project\\venv\\Lib\\site-packages\\IPython\\core\\interactiveshell.py:3675: UserWarning: To exit: use 'exit', 'quit', or Ctrl-D.\n",
      "  warn(\"To exit: use 'exit', 'quit', or Ctrl-D.\", stacklevel=1)\n"
     ]
    }
   ],
   "source": [
    "'''08. How do you manage sessions in Flask.'''\n",
    "from flask import Flask, session\n",
    "\n",
    "app = Flask(__name__)\n",
    "app.config['SECRET_KEY'] = 'secret_key'\n",
    "\n",
    "@app.route('/login')\n",
    "def login():\n",
    "    session['username'] = 'john'\n",
    "    return 'Logged in'\n",
    "\n",
    "@app.route('/protected')\n",
    "def protected():\n",
    "    if 'username' in session:\n",
    "        return f'Hello, {session[\"username\"]}'\n",
    "    return 'Not logged in'\n",
    "\n",
    "@app.route('/logout')\n",
    "def logout():\n",
    "    session.pop('username', None)\n",
    "    return 'Logged out'\n",
    "\n",
    "if __name__ == '__main__':\n",
    "    app.run(debug=True)"
   ]
  },
  {
   "cell_type": "code",
   "execution_count": null,
   "id": "22cf8174",
   "metadata": {},
   "outputs": [
    {
     "name": "stdout",
     "output_type": "stream",
     "text": [
      " * Serving Flask app '__main__'\n",
      " * Debug mode: on\n"
     ]
    },
    {
     "name": "stderr",
     "output_type": "stream",
     "text": [
      "WARNING: This is a development server. Do not use it in a production deployment. Use a production WSGI server instead.\n",
      " * Running on http://127.0.0.1:5000\n",
      "Press CTRL+C to quit\n",
      " * Restarting with stat\n"
     ]
    },
    {
     "ename": "SystemExit",
     "evalue": "1",
     "output_type": "error",
     "traceback": [
      "An exception has occurred, use %tb to see the full traceback.\n",
      "\u001b[31mSystemExit\u001b[39m\u001b[31m:\u001b[39m 1\n"
     ]
    }
   ],
   "source": [
    "'''09. How do you redirect to a different route in Flask.'''\n",
    "from flask import Flask, redirect, url_for\n",
    "\n",
    "app = Flask(__name__)\n",
    "\n",
    "@app.route('/')\n",
    "def index():\n",
    "    return 'Index Page'\n",
    "\n",
    "@app.route('/old-page')\n",
    "def old_page():\n",
    "    return redirect(url_for('new_page'))\n",
    "\n",
    "@app.route('/new-page')\n",
    "def new_page():\n",
    "    return 'New Page'\n",
    "\n",
    "if __name__ == '__main__':\n",
    "    app.run(debug=True)"
   ]
  },
  {
   "cell_type": "code",
   "execution_count": null,
   "id": "14cfa653",
   "metadata": {},
   "outputs": [
    {
     "name": "stdout",
     "output_type": "stream",
     "text": [
      " * Serving Flask app '__main__'\n",
      " * Debug mode: on\n"
     ]
    },
    {
     "name": "stderr",
     "output_type": "stream",
     "text": [
      "WARNING: This is a development server. Do not use it in a production deployment. Use a production WSGI server instead.\n",
      " * Running on http://127.0.0.1:5000\n",
      "Press CTRL+C to quit\n",
      " * Restarting with stat\n"
     ]
    },
    {
     "ename": "SystemExit",
     "evalue": "1",
     "output_type": "error",
     "traceback": [
      "An exception has occurred, use %tb to see the full traceback.\n",
      "\u001b[31mSystemExit\u001b[39m\u001b[31m:\u001b[39m 1\n"
     ]
    },
    {
     "name": "stderr",
     "output_type": "stream",
     "text": [
      "c:\\Users\\laxmi\\flask_project\\venv\\Lib\\site-packages\\IPython\\core\\interactiveshell.py:3675: UserWarning: To exit: use 'exit', 'quit', or Ctrl-D.\n",
      "  warn(\"To exit: use 'exit', 'quit', or Ctrl-D.\", stacklevel=1)\n"
     ]
    }
   ],
   "source": [
    "'''10. How do you handle errors in Flask (e.g., 404).'''\n",
    "from flask import Flask, render_template\n",
    "\n",
    "app = Flask(__name__)\n",
    "\n",
    "# Custom 404 error handler\n",
    "@app.errorhandler(404)\n",
    "def page_not_found(e):\n",
    "    return render_template('404.html'), 404\n",
    "\n",
    "# Custom 500 error handler\n",
    "@app.errorhandler(500)\n",
    "def internal_server_error(e):\n",
    "    return render_template('500.html'), 500\n",
    "\n",
    "if __name__ == '__main__':\n",
    "    app.run(debug=True)\n",
    "    "
   ]
  },
  {
   "cell_type": "code",
   "execution_count": null,
   "id": "c7d58b68",
   "metadata": {},
   "outputs": [],
   "source": [
    "'''11. How do you structure a Flask app using Blueprints.'''\n",
    "from flask import Flask\n",
    "from app.blueprints.users.routes import users_blueprint\n",
    "\n",
    "app = Flask(__name__)\n",
    "app.register_blueprint(users_blueprint)\n",
    "'''Example routes.py:'''\n",
    "from flask import Blueprint\n",
    "\n",
    "users_blueprint = Blueprint('users', __name__)\n",
    "\n",
    "@users_blueprint.route('/users')\n",
    "def users():\n",
    "    return 'Users page'"
   ]
  },
  {
   "cell_type": "code",
   "execution_count": null,
   "id": "d6ab3787",
   "metadata": {},
   "outputs": [
    {
     "name": "stdout",
     "output_type": "stream",
     "text": [
      " * Serving Flask app '__main__'\n",
      " * Debug mode: on\n"
     ]
    },
    {
     "name": "stderr",
     "output_type": "stream",
     "text": [
      "WARNING: This is a development server. Do not use it in a production deployment. Use a production WSGI server instead.\n",
      " * Running on http://127.0.0.1:5000\n",
      "Press CTRL+C to quit\n",
      " * Restarting with stat\n"
     ]
    },
    {
     "ename": "SystemExit",
     "evalue": "1",
     "output_type": "error",
     "traceback": [
      "An exception has occurred, use %tb to see the full traceback.\n",
      "\u001b[31mSystemExit\u001b[39m\u001b[31m:\u001b[39m 1\n"
     ]
    },
    {
     "name": "stderr",
     "output_type": "stream",
     "text": [
      "c:\\Users\\laxmi\\flask_project\\venv\\Lib\\site-packages\\IPython\\core\\interactiveshell.py:3675: UserWarning: To exit: use 'exit', 'quit', or Ctrl-D.\n",
      "  warn(\"To exit: use 'exit', 'quit', or Ctrl-D.\", stacklevel=1)\n"
     ]
    }
   ],
   "source": [
    "'''12. How do you define a custom Jinja filter in Flask.'''\n",
    "from flask import Flask\n",
    "\n",
    "app = Flask(__name__)\n",
    "\n",
    "# Define a custom filter\n",
    "@app.template_filter('datetimeformat')\n",
    "def datetimeformat(value, format='%Y-%m-%d %H:%M:%S'):\n",
    "    return value.strftime(format)\n",
    "\n",
    "# Use the filter in your template\n",
    "# {{ my_date | datetimeformat }}\n",
    "\n",
    "if __name__ == '__main__':\n",
    "    app.run(debug=True)"
   ]
  },
  {
   "cell_type": "code",
   "execution_count": null,
   "id": "6e3392c2",
   "metadata": {},
   "outputs": [
    {
     "name": "stdout",
     "output_type": "stream",
     "text": [
      " * Serving Flask app '__main__'\n",
      " * Debug mode: on\n"
     ]
    },
    {
     "name": "stderr",
     "output_type": "stream",
     "text": [
      "WARNING: This is a development server. Do not use it in a production deployment. Use a production WSGI server instead.\n",
      " * Running on http://127.0.0.1:5000\n",
      "Press CTRL+C to quit\n",
      " * Restarting with stat\n"
     ]
    },
    {
     "ename": "SystemExit",
     "evalue": "1",
     "output_type": "error",
     "traceback": [
      "An exception has occurred, use %tb to see the full traceback.\n",
      "\u001b[31mSystemExit\u001b[39m\u001b[31m:\u001b[39m 1\n"
     ]
    },
    {
     "name": "stderr",
     "output_type": "stream",
     "text": [
      "c:\\Users\\laxmi\\flask_project\\venv\\Lib\\site-packages\\IPython\\core\\interactiveshell.py:3675: UserWarning: To exit: use 'exit', 'quit', or Ctrl-D.\n",
      "  warn(\"To exit: use 'exit', 'quit', or Ctrl-D.\", stacklevel=1)\n"
     ]
    }
   ],
   "source": [
    "'''13. How can you redirect with query parameters in Flask.'''\n",
    "from flask import Flask, redirect, url_for\n",
    "\n",
    "app = Flask(__name__)\n",
    "\n",
    "@app.route('/old-page')\n",
    "def old_page():\n",
    "    return redirect(url_for('new_page', param1='value1', param2='value2'))\n",
    "\n",
    "@app.route('/new-page')\n",
    "def new_page():\n",
    "    param1 = request.args.get('param1')\n",
    "    param2 = request.args.get('param2')\n",
    "    return f\"Param 1: {param1}, Param 2: {param2}\"\n",
    "\n",
    "if __name__ == '__main__':\n",
    "    app.run(debug=True)"
   ]
  },
  {
   "cell_type": "code",
   "execution_count": null,
   "id": "b95e5450",
   "metadata": {},
   "outputs": [],
   "source": [
    "'''14. How do you return JSON responses in Flask4'''\n",
    "from flask import Flask, jsonify\n",
    "\n",
    "app = Flask(__name__)\n",
    "\n",
    "@app.route('/api/data', methods=['GET'])\n",
    "def get_data():\n",
    "    data = {'name': 'John', 'age': 30}\n",
    "    return jsonify(data)\n",
    "\n",
    "if __name__ == '__main__':\n",
    "    app.run()"
   ]
  },
  {
   "cell_type": "code",
   "execution_count": null,
   "id": "9214526b",
   "metadata": {
    "scrolled": true
   },
   "outputs": [
    {
     "name": "stdout",
     "output_type": "stream",
     "text": [
      " * Serving Flask app '__main__'\n",
      " * Debug mode: off\n"
     ]
    },
    {
     "name": "stderr",
     "output_type": "stream",
     "text": [
      "WARNING: This is a development server. Do not use it in a production deployment. Use a production WSGI server instead.\n",
      " * Running on http://127.0.0.1:5000\n",
      "Press CTRL+C to quit\n"
     ]
    }
   ],
   "source": [
    "'''15. D-M How do you capture URL parameters in Flask'''\n",
    "from flask import Flask\n",
    "\n",
    "app = Flask(__name__)\n",
    "\n",
    "@app.route('/user/<username>')\n",
    "def show_user_profile(username):\n",
    "    return f'User: {username}'\n",
    "\n",
    "@app.route('/post/<int:post_id>')\n",
    "def show_post(post_id):\n",
    "    return f'Post ID: {post_id}'\n",
    "\n",
    "if __name__ == '__main__':\n",
    "    app.run()"
   ]
  }
 ],
 "metadata": {
  "kernelspec": {
   "display_name": "Python 3 (ipykernel)",
   "language": "python",
   "name": "python3"
  },
  "language_info": {
   "codemirror_mode": {
    "name": "ipython",
    "version": 3
   },
   "file_extension": ".py",
   "mimetype": "text/x-python",
   "name": "python",
   "nbconvert_exporter": "python",
   "pygments_lexer": "ipython3",
   "version": "3.13.2"
  }
 },
 "nbformat": 4,
 "nbformat_minor": 5
}
