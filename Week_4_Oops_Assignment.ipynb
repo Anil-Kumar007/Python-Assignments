{
 "cells": [
  {
   "cell_type": "code",
   "execution_count": 7,
   "id": "51617b76-feda-47a2-bf6a-3f18babf1c90",
   "metadata": {},
   "outputs": [
    {
     "data": {
      "text/plain": [
       "'Bark speak!'"
      ]
     },
     "execution_count": 7,
     "metadata": {},
     "output_type": "execute_result"
    }
   ],
   "source": [
    "# 1. Create a parent class Animal with a method speak() that prints a generic message. Create a child class Dog\n",
    "# that overrides the speak() method to print \"Bark!\".\n",
    "class Animal:\n",
    "    def speak(self):\n",
    "        return \"Animals speak!!\"\n",
    "        \n",
    "class Dog(Animal):\n",
    "    def speak(self):\n",
    "        return \"Bark speak!\"\n",
    "\n",
    "an = Animal()\n",
    "an.speak()\n",
    "\n",
    "do = Dog()\n",
    "do.speak()"
   ]
  },
  {
   "cell_type": "code",
   "execution_count": 20,
   "id": "f70cab80-c9a8-48a0-8e5e-b2fdf04c4615",
   "metadata": {},
   "outputs": [
    {
     "name": "stdout",
     "output_type": "stream",
     "text": [
      "The area of Circle is: 314.00\n",
      "The area of Rectangle is: 20.00\n"
     ]
    }
   ],
   "source": [
    "# 2. Write a program to create an abstract class Shape with a method area(). Derive classes Circle and Rectangle\n",
    "# from it and implement the area() method in both.\n",
    "\n",
    "from abc import ABC, abstractmethod\n",
    "\n",
    "#Abstract Base Class\n",
    "class Shape(ABC):\n",
    "    @abstractmethod\n",
    "    def area(self):\n",
    "        pass\n",
    "\n",
    "class Circle(Shape):\n",
    "    def __init__(self, radius):\n",
    "        self.radius = radius\n",
    "\n",
    "    def area(self):\n",
    "        return 3.14*self.radius**2\n",
    "\n",
    "class Rectangle:\n",
    "    def __init__(self, length, breadth):\n",
    "        self.length = length\n",
    "        self.breadth = breadth\n",
    "\n",
    "    def area(self):\n",
    "        return self.length*self.breadth\n",
    "\n",
    "circle = Circle(10)\n",
    "print(f\"The area of Circle is: {circle.area():.2f}\")\n",
    "\n",
    "rectangle = Rectangle(5,4)\n",
    "print(f\"The area of Rectangle is: {rectangle.area():.2f}\")"
   ]
  },
  {
   "cell_type": "code",
   "execution_count": 25,
   "id": "83716008-cb40-4870-b0db-403b46825e3b",
   "metadata": {},
   "outputs": [
    {
     "name": "stdout",
     "output_type": "stream",
     "text": [
      "Check vehicle, brand and its specification:\n",
      "==========================================\n",
      "Vehicle type is: Four Wheeler\n",
      "The car brand name is: Tata\n",
      "The Electric car battery volatge is: 1200 kwh\n"
     ]
    }
   ],
   "source": [
    "# 3. Implement a multi-level inheritance scenario where a class Vehicle has an attribute type. Derive a class Car\n",
    "# and further derive a class ElectricCar that adds a battery attribute.\n",
    "\n",
    "#Base Class\n",
    "class Vehicle:\n",
    "    def __init__(self, vehicle_type):\n",
    "        self.vehicle_type = vehicle_type\n",
    "\n",
    "    def show_vehicle_type(self):\n",
    "        print(f\"Vehicle type is: {self.vehicle_type}\")\n",
    "class Car(Vehicle):\n",
    "    def __init__(self, vehicle_type, brand):\n",
    "        self.vehicle_type = vehicle_type\n",
    "        self.brand = brand\n",
    "\n",
    "    def show_car_brand(self):\n",
    "        print(f\"The car brand name is: {self.brand}\")\n",
    "\n",
    "class Electric_Car(Car):\n",
    "    def __init__(self, vehicle_type, brand, battery_type):\n",
    "        self.vehicle_type = vehicle_type\n",
    "        self.brand = brand\n",
    "        self.battery_type =battery_type\n",
    "\n",
    "    def show_battery(self):\n",
    "        print(f\"The Electric car battery volatge is: {self.battery_type} kwh\")\n",
    "\n",
    "print('Check vehicle, brand and its specification:')\n",
    "e_car = Electric_Car(\"Four Wheeler\",\"Tata\", 1200)\n",
    "print(\"==========================================\")\n",
    "e_car.show_vehicle_type()\n",
    "e_car.show_car_brand()\n",
    "e_car.show_battery()"
   ]
  },
  {
   "cell_type": "code",
   "execution_count": 32,
   "id": "10b76d4e-567e-4f18-879e-5add0e702ffd",
   "metadata": {},
   "outputs": [
    {
     "name": "stdout",
     "output_type": "stream",
     "text": [
      "Sparrows fly high in the sky!!\n",
      "Penguins can not fly but, they can swim!!\n"
     ]
    }
   ],
   "source": [
    "# 4. Demonstrate polymorphism by creating a base class Bird with a method fly(). Create two derived classes\n",
    "# Sparrow and Penguin that override the fly() method.\n",
    "\n",
    "#Base Class\n",
    "class Bird:\n",
    "    def fly(self):\n",
    "        print(\"Birds are flying!!\")\n",
    "#Inherit Bird Class\n",
    "class Sparrow(Bird):\n",
    "    def fly(self):\n",
    "        print(\"Sparrows fly high in the sky!!\")\n",
    "#Inherit Bird Class\n",
    "class Penguin(Bird):\n",
    "    def fly(self):\n",
    "        print(\"Penguins can not fly but, they can swim!!\")\n",
    "\n",
    "def bird_fly(bird_obj):\n",
    "    bird_obj.fly()\n",
    "\n",
    "# bird = Bird()\n",
    "bird_sparrow = Sparrow()\n",
    "bird_penguin = Penguin()\n",
    "\n",
    "bird_fly(bird_sparrow)\n",
    "bird_fly(bird_penguin)"
   ]
  },
  {
   "cell_type": "code",
   "execution_count": 33,
   "id": "7cddba71-964e-45c3-9d15-8cd866cd375d",
   "metadata": {},
   "outputs": [
    {
     "name": "stdout",
     "output_type": "stream",
     "text": [
      "Deposited: $50\n",
      "Withdrawn: $30\n",
      "Current balance: $120\n"
     ]
    }
   ],
   "source": [
    "# 5. Write a program to demonstrate encapsulation by creating a class BankAccount with private attributes\n",
    "# balance and methods to deposit, withdraw, and check balance.\n",
    "class BankAccount:\n",
    "    def __init__(self, initial_balance=0):\n",
    "        self.__balance = initial_balance  # Private attribute\n",
    "\n",
    "    def deposit(self, amount):\n",
    "        if amount > 0:\n",
    "            self.__balance += amount\n",
    "            print(f\"Deposited: ${amount}\")\n",
    "        else:\n",
    "            print(\"Invalid deposit amount.\")\n",
    "\n",
    "    def withdraw(self, amount):\n",
    "        if amount <= self.__balance:\n",
    "            self.__balance -= amount\n",
    "            print(f\"Withdrawn: ${amount}\")\n",
    "        else:\n",
    "            print(\"Insufficient balance.\")\n",
    "\n",
    "    def check_balance(self):\n",
    "        print(f\"Current balance: ${self.__balance}\")\n",
    "\n",
    "# Test the class\n",
    "account = BankAccount(100)  # Initial balance $100\n",
    "account.deposit(50)         # +50\n",
    "account.withdraw(30)        # -30\n",
    "account.check_balance()     # Should print $120\n",
    "\n",
    "# Trying to access private attribute directly (not recommended)\n",
    "# print(account.__balance)  # This will raise an AttributeError\n"
   ]
  },
  {
   "cell_type": "code",
   "execution_count": 34,
   "id": "5695342c-84e3-4a82-9edd-013411664095",
   "metadata": {},
   "outputs": [
    {
     "name": "stdout",
     "output_type": "stream",
     "text": [
      "Guitar is strumming.\n",
      "Piano is playing melodiously.\n"
     ]
    }
   ],
   "source": [
    "# 6. Demonstrate runtime polymorphism using a method play() in a base class Instrument. Derive classes Guitar\n",
    "# and Piano that implement their own version of play().\n",
    "# Base class\n",
    "class Instrument:\n",
    "    def play(self):\n",
    "        print(\"Instrument is playing.\")\n",
    "\n",
    "# Derived class 1\n",
    "class Guitar(Instrument):\n",
    "    def play(self):\n",
    "        print(\"Guitar is strumming.\")\n",
    "\n",
    "# Derived class 2\n",
    "class Piano(Instrument):\n",
    "    def play(self):\n",
    "        print(\"Piano is playing melodiously.\")\n",
    "\n",
    "# Function demonstrating runtime polymorphism\n",
    "def perform(instrument):\n",
    "    instrument.play()  # Calls the appropriate play() method at runtime\n",
    "\n",
    "# Create instances of Guitar and Piano\n",
    "g = Guitar()\n",
    "p = Piano()\n",
    "\n",
    "# Demonstrate runtime polymorphism\n",
    "perform(g)  # Output: Guitar is strumming.\n",
    "perform(p)  # Output: Piano is playing melodiously.\n"
   ]
  },
  {
   "cell_type": "code",
   "execution_count": 35,
   "id": "5139766f-e0a3-4a7b-904b-c411456c2d27",
   "metadata": {},
   "outputs": [
    {
     "name": "stdout",
     "output_type": "stream",
     "text": [
      "Sum: 15\n",
      "Difference: 5\n"
     ]
    }
   ],
   "source": [
    "# 7. Create a class MathOperations with a class method add_numbers() to add two numbers and a static\n",
    "# method subtract_numbers() to subtract two numbers.\n",
    "class MathOperations:\n",
    "    @classmethod\n",
    "    def add_numbers(cls, a, b):\n",
    "        return a + b\n",
    "\n",
    "    @staticmethod\n",
    "    def subtract_numbers(a, b):\n",
    "        return a - b\n",
    "\n",
    "# Using class method\n",
    "sum_result = MathOperations.add_numbers(10, 5)\n",
    "print(f\"Sum: {sum_result}\")  # Output: Sum: 15\n",
    "\n",
    "# Using static method\n",
    "diff_result = MathOperations.subtract_numbers(10, 5)\n",
    "print(f\"Difference: {diff_result}\")  # Output: Difference: 5\n"
   ]
  },
  {
   "cell_type": "code",
   "execution_count": 36,
   "id": "d87e4217-986d-4294-8381-2df77689fa71",
   "metadata": {},
   "outputs": [
    {
     "name": "stdout",
     "output_type": "stream",
     "text": [
      "Total persons created: 3\n"
     ]
    }
   ],
   "source": [
    "# 8. Implement a class Person with a class method to count the total number of persons created.\n",
    "class Person:\n",
    "    count = 0  # Class variable to store number of instances\n",
    "\n",
    "    def __init__(self, name):\n",
    "        self.name = name\n",
    "        Person.count += 1  # Increment count when a new person is created\n",
    "\n",
    "    @classmethod\n",
    "    def total_persons(cls):\n",
    "        print(f\"Total persons created: {cls.count}\")\n",
    "\n",
    "# Creating Person objects\n",
    "p1 = Person(\"Alice\")\n",
    "p2 = Person(\"Bob\")\n",
    "p3 = Person(\"Charlie\")\n",
    "\n",
    "# Calling class method\n",
    "Person.total_persons()  # Output: Total persons created: 3\n"
   ]
  },
  {
   "cell_type": "code",
   "execution_count": 37,
   "id": "28bbd097-770a-4008-9dbc-4c1279071305",
   "metadata": {},
   "outputs": [
    {
     "name": "stdout",
     "output_type": "stream",
     "text": [
      "3/4\n",
      "5/2\n"
     ]
    }
   ],
   "source": [
    "# 9. Write a class Fraction with attributes numerator and denominator. Override the str method to display the\n",
    "# fraction as \"numerator/denominator\".\n",
    "class Fraction:\n",
    "    def __init__(self, numerator, denominator):\n",
    "        self.numerator = numerator\n",
    "        self.denominator = denominator\n",
    "\n",
    "    def __str__(self):\n",
    "        return f\"{self.numerator}/{self.denominator}\"\n",
    "\n",
    "# Example usage\n",
    "f1 = Fraction(3, 4)\n",
    "f2 = Fraction(5, 2)\n",
    "\n",
    "print(f1)  # Output: 3/4\n",
    "print(f2)  # Output: 5/2\n"
   ]
  },
  {
   "cell_type": "code",
   "execution_count": 38,
   "id": "01b35465-c236-43a1-8dbf-3be645cd55eb",
   "metadata": {},
   "outputs": [
    {
     "name": "stdout",
     "output_type": "stream",
     "text": [
      "Vector(2, 3)\n",
      "Vector(4, 5)\n",
      "Vector(6, 8)\n"
     ]
    }
   ],
   "source": [
    "# 10. Demonstrate operator overloading by creating a class Vector and overriding the add method to add two\n",
    "# vectors.\n",
    "class Vector:\n",
    "    def __init__(self, x, y):\n",
    "        self.x = x\n",
    "        self.y = y\n",
    "\n",
    "    def __add__(self, other):\n",
    "        # Overloading the + operator\n",
    "        return Vector(self.x + other.x, self.y + other.y)\n",
    "\n",
    "    def __str__(self):\n",
    "        return f\"Vector({self.x}, {self.y})\"\n",
    "\n",
    "# Example usage\n",
    "v1 = Vector(2, 3)\n",
    "v2 = Vector(4, 5)\n",
    "v3 = v1 + v2  # Calls v1.__add__(v2)\n",
    "\n",
    "print(v1)  # Output: Vector(2, 3)\n",
    "print(v2)  # Output: Vector(4, 5)\n",
    "print(v3)  # Output: Vector(6, 8)\n"
   ]
  },
  {
   "cell_type": "code",
   "execution_count": 39,
   "id": "b12a1d69-dc3a-4b1e-b373-e2ff315041ef",
   "metadata": {},
   "outputs": [
    {
     "name": "stdout",
     "output_type": "stream",
     "text": [
      "Hello, my name is Alice and I am 25 years old.\n",
      "Hello, my name is Bob and I am 30 years old.\n"
     ]
    }
   ],
   "source": [
    "# 11. Create a class Person with attributes name and age. Add a method greet() that prints \"Hello, my name is\n",
    "# {name} and I am {age} years old.\"\n",
    "class Person:\n",
    "    def __init__(self, name, age):\n",
    "        self.name = name\n",
    "        self.age = age\n",
    "\n",
    "    def greet(self):\n",
    "        print(f\"Hello, my name is {self.name} and I am {self.age} years old.\")\n",
    "\n",
    "# Example usage\n",
    "p1 = Person(\"Alice\", 25)\n",
    "p2 = Person(\"Bob\", 30)\n",
    "\n",
    "p1.greet()  # Output: Hello, my name is Alice and I am 25 years old.\n",
    "p2.greet()  # Output: Hello, my name is Bob and I am 30 years old.\n"
   ]
  },
  {
   "cell_type": "code",
   "execution_count": 40,
   "id": "c8c62ddc-91aa-4eb6-8c56-f41cc27badbe",
   "metadata": {},
   "outputs": [
    {
     "name": "stdout",
     "output_type": "stream",
     "text": [
      "John's average grade: 86.25\n",
      "Emma's average grade: 0.00\n"
     ]
    }
   ],
   "source": [
    "# 12. Implement a class Student with attributes name and grades. Create a method average_grade() to compute\n",
    "# the average of the grades.\n",
    "class Student:\n",
    "    def __init__(self, name, grades):\n",
    "        self.name = name\n",
    "        self.grades = grades  # grades should be a list of numbers\n",
    "\n",
    "    def average_grade(self):\n",
    "        if not self.grades:\n",
    "            return 0  # Avoid division by zero if grades list is empty\n",
    "        return sum(self.grades) / len(self.grades)\n",
    "\n",
    "# Example usage\n",
    "student1 = Student(\"John\", [85, 90, 78, 92])\n",
    "student2 = Student(\"Emma\", [])\n",
    "\n",
    "print(f\"{student1.name}'s average grade: {student1.average_grade():.2f}\")  # Output: 86.25\n",
    "print(f\"{student2.name}'s average grade: {student2.average_grade():.2f}\")  # Output: 0.00\n"
   ]
  },
  {
   "cell_type": "code",
   "execution_count": 41,
   "id": "ed1e53d7-d698-4482-a507-ad8fa81bdf03",
   "metadata": {},
   "outputs": [
    {
     "name": "stdout",
     "output_type": "stream",
     "text": [
      "Area of rectangle: 15\n"
     ]
    }
   ],
   "source": [
    "# 13. Create a class Rectangle with methods set_dimensions() to set the dimensions and area() to calculate the\n",
    "# area.\n",
    "class Rectangle:\n",
    "    def __init__(self):\n",
    "        self.length = 0\n",
    "        self.breadth = 0\n",
    "\n",
    "    def set_dimensions(self, length, breadth):\n",
    "        self.length = length\n",
    "        self.breadth = breadth\n",
    "\n",
    "    def area(self):\n",
    "        return self.length * self.breadth\n",
    "\n",
    "# Example usage\n",
    "rect = Rectangle()\n",
    "rect.set_dimensions(5, 3)\n",
    "print(f\"Area of rectangle: {rect.area()}\")  # Output: 15\n"
   ]
  },
  {
   "cell_type": "code",
   "execution_count": 42,
   "id": "be43bcd9-c3a0-40d3-95db-3dfa3e3a909f",
   "metadata": {},
   "outputs": [
    {
     "name": "stdout",
     "output_type": "stream",
     "text": [
      "John's salary: $800\n",
      "Alice's salary: $1500\n"
     ]
    }
   ],
   "source": [
    "# 14. Create a class Employee with a method calculate_salary() that computes the salary based on hours worked\n",
    "# and hourly rate. Create a derived class Manager that adds a bonus to the salary.\n",
    "class Employee:\n",
    "    def __init__(self, name, hours_worked, hourly_rate):\n",
    "        self.name = name\n",
    "        self.hours_worked = hours_worked\n",
    "        self.hourly_rate = hourly_rate\n",
    "\n",
    "    def calculate_salary(self):\n",
    "        return self.hours_worked * self.hourly_rate\n",
    "\n",
    "class Manager(Employee):\n",
    "    def __init__(self, name, hours_worked, hourly_rate, bonus):\n",
    "        super().__init__(name, hours_worked, hourly_rate)\n",
    "        self.bonus = bonus\n",
    "\n",
    "    def calculate_salary(self):\n",
    "        base_salary = super().calculate_salary()\n",
    "        return base_salary + self.bonus\n",
    "\n",
    "# Example usage\n",
    "emp = Employee(\"John\", 40, 20)\n",
    "mgr = Manager(\"Alice\", 40, 25, 500)\n",
    "\n",
    "print(f\"{emp.name}'s salary: ${emp.calculate_salary()}\")    # Output: John’s salary: $800\n",
    "print(f\"{mgr.name}'s salary: ${mgr.calculate_salary()}\")    # Output: Alice’s salary: $1500\n"
   ]
  },
  {
   "cell_type": "code",
   "execution_count": 43,
   "id": "cd0ebac9-b2e5-4486-aad5-4866f98ce6a1",
   "metadata": {},
   "outputs": [
    {
     "name": "stdout",
     "output_type": "stream",
     "text": [
      "Total price for 3 Laptops: $3000\n"
     ]
    }
   ],
   "source": [
    "# 15. Create a class Product with attributes name, price, and quantity. Implement a method total_price() that\n",
    "# calculates the total price of the product.\n",
    "class Product:\n",
    "    def __init__(self, name, price, quantity):\n",
    "        self.name = name\n",
    "        self.price = price\n",
    "        self.quantity = quantity\n",
    "\n",
    "    def total_price(self):\n",
    "        return self.price * self.quantity\n",
    "\n",
    "# Example usage\n",
    "product = Product(\"Laptop\", 1000, 3)\n",
    "print(f\"Total price for {product.quantity} {product.name}s: ${product.total_price()}\")  \n",
    "# Output: Total price for 3 Laptops: $3000\n"
   ]
  },
  {
   "cell_type": "code",
   "execution_count": 44,
   "id": "9c061c9e-d182-4c98-8b6e-695019e58593",
   "metadata": {},
   "outputs": [
    {
     "name": "stdout",
     "output_type": "stream",
     "text": [
      "Cow says: Moo\n",
      "Sheep says: Baa\n"
     ]
    }
   ],
   "source": [
    "# 16. Create a class Animal with an abstract method sound(). Create two derived classes Cow and Sheep that\n",
    "# implement the sound() method.\n",
    "from abc import ABC, abstractmethod\n",
    "\n",
    "class Animal(ABC):\n",
    "    @abstractmethod\n",
    "    def sound(self):\n",
    "        pass\n",
    "\n",
    "class Cow(Animal):\n",
    "    def sound(self):\n",
    "        print(\"Cow says: Moo\")\n",
    "\n",
    "class Sheep(Animal):\n",
    "    def sound(self):\n",
    "        print(\"Sheep says: Baa\")\n",
    "\n",
    "# Example usage\n",
    "cow = Cow()\n",
    "sheep = Sheep()\n",
    "\n",
    "cow.sound()    # Output: Cow says: Moo\n",
    "sheep.sound()  # Output: Sheep says: Baa\n"
   ]
  },
  {
   "cell_type": "code",
   "execution_count": null,
   "id": "d3c313ce-7082-49ed-bba2-15238f23cde5",
   "metadata": {},
   "outputs": [],
   "source": [
    "# 17. Create a class Book with attributes title, author, and year_published. Add a method get_book_info() that\n",
    "# returns a formatted string with the book's details.\n"
   ]
  },
  {
   "cell_type": "code",
   "execution_count": null,
   "id": "d99820cb-cbcc-4a1d-9bed-cdc1f4062732",
   "metadata": {},
   "outputs": [],
   "source": [
    "# 18. Create a class House with attributes address and price. Create a derived class Mansion that adds an\n",
    "# attribute number_of_rooms"
   ]
  },
  {
   "cell_type": "code",
   "execution_count": null,
   "id": "3c4c0fc7-e68e-4ef0-bf22-a6adb8430cb6",
   "metadata": {},
   "outputs": [],
   "source": []
  },
  {
   "cell_type": "code",
   "execution_count": null,
   "id": "58634919-5893-43a4-b901-a95c694fa7dc",
   "metadata": {},
   "outputs": [],
   "source": []
  },
  {
   "cell_type": "code",
   "execution_count": null,
   "id": "c64216c5-8572-4001-bf34-cceaf505561c",
   "metadata": {},
   "outputs": [],
   "source": []
  },
  {
   "cell_type": "code",
   "execution_count": null,
   "id": "a58cb2ab-991b-46ca-83c3-e8a3d7543c50",
   "metadata": {},
   "outputs": [],
   "source": []
  },
  {
   "cell_type": "code",
   "execution_count": null,
   "id": "71bfb140-50c4-4463-9325-cc68c003cf51",
   "metadata": {},
   "outputs": [],
   "source": []
  },
  {
   "cell_type": "code",
   "execution_count": null,
   "id": "a67fb82d-8e5d-4c8b-bc89-5d6307e88462",
   "metadata": {},
   "outputs": [],
   "source": []
  }
 ],
 "metadata": {
  "kernelspec": {
   "display_name": "Python 3 (ipykernel)",
   "language": "python",
   "name": "python3"
  },
  "language_info": {
   "codemirror_mode": {
    "name": "ipython",
    "version": 3
   },
   "file_extension": ".py",
   "mimetype": "text/x-python",
   "name": "python",
   "nbconvert_exporter": "python",
   "pygments_lexer": "ipython3",
   "version": "3.13.2"
  }
 },
 "nbformat": 4,
 "nbformat_minor": 5
}
