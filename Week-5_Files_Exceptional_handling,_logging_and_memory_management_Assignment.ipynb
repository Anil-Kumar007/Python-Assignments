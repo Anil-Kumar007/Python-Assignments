{
 "cells": [
  {
   "cell_type": "code",
   "execution_count": 1,
   "id": "297f1543-4d16-4c81-a6b7-203d0c8e5952",
   "metadata": {},
   "outputs": [],
   "source": [
    "# 1. How can you open a file for writing in Python and write a string to it?\n",
    "with open('example.txt', 'w') as file:\n",
    "    file.write('Hello, World!')"
   ]
  },
  {
   "cell_type": "code",
   "execution_count": 2,
   "id": "210acb23-80dc-41cd-910d-29ce45eff5ac",
   "metadata": {},
   "outputs": [
    {
     "name": "stdout",
     "output_type": "stream",
     "text": [
      "Hello, World!\n"
     ]
    }
   ],
   "source": [
    "# 2. Write a Python program to read the contents of a file and print each line?\n",
    "with open('example.txt', 'r') as file:\n",
    "    for line in file:\n",
    "        print(line.strip())\n"
   ]
  },
  {
   "cell_type": "code",
   "execution_count": 1,
   "id": "58087fcd-4186-48e9-8371-909d33877548",
   "metadata": {},
   "outputs": [
    {
     "name": "stdout",
     "output_type": "stream",
     "text": [
      "File not found. [Errno 2] No such file or directory: 'nonexistent.txt'\n"
     ]
    }
   ],
   "source": [
    "# 3. How would you handle a case where the file doesn't exist while trying to open it for reading?\n",
    "try:\n",
    "    with open('nonexistent.txt', 'r') as file:\n",
    "        print(file.read())\n",
    "except FileNotFoundError as e:\n",
    "    print(\"File not found.\",e)\n"
   ]
  },
  {
   "cell_type": "code",
   "execution_count": 3,
   "id": "eb102127-b671-412f-a504-a91621ab1e02",
   "metadata": {},
   "outputs": [
    {
     "name": "stdout",
     "output_type": "stream",
     "text": [
      "Contents of 'source.txt' have been copied to 'destination.txt'.\n"
     ]
    }
   ],
   "source": [
    "# 4. Write a Python script that reads from one file and writes its content to another file?\n",
    "\n",
    "src_file = open(\"source.txt\",'w')\n",
    "src_file.write(\"Hello, this is my first line of assignment.!!\")\n",
    "src_file.close()\n",
    "\n",
    "src_file = 'source.txt'\n",
    "dst_file = 'destination.txt'\n",
    "with open(src_file, 'r') as src, open(dst_file, 'w') as dst:\n",
    "    for line in src:\n",
    "        dst.write(line)\n",
    "\n",
    "print(f\"Contents of '{src_file}' have been copied to '{dst_file}'.\")\n"
   ]
  },
  {
   "cell_type": "code",
   "execution_count": 11,
   "id": "995c60d6-cc89-4ef3-b4c5-f2820a9d0b93",
   "metadata": {},
   "outputs": [
    {
     "name": "stdout",
     "output_type": "stream",
     "text": [
      "Cannot divide by zero >> division by zero\n"
     ]
    }
   ],
   "source": [
    "# 5. How would you catch and handle division by zero error in Python?\n",
    "try:\n",
    "    result = 10 / 0\n",
    "except ZeroDivisionError as e:\n",
    "    print(\"Cannot divide by zero >>\", e)\n"
   ]
  },
  {
   "cell_type": "code",
   "execution_count": 2,
   "id": "e3969455-cebd-4cc4-90ba-3cc833cc38a9",
   "metadata": {},
   "outputs": [],
   "source": [
    "# 6. Write a Python program that logs an error message to a log file when a division by zero exception occurs?\n",
    "import logging\n",
    "\n",
    "logging.basicConfig(filename='error.log', level=logging.ERROR)\n",
    "\n",
    "try:\n",
    "    result = 10 / 0\n",
    "except ZeroDivisionError as e:\n",
    "    logging.error(\"Division by zero occurred: %s\", e)\n"
   ]
  },
  {
   "cell_type": "code",
   "execution_count": 1,
   "id": "5446c153-a576-46b7-9170-a46f200a144a",
   "metadata": {},
   "outputs": [
    {
     "name": "stderr",
     "output_type": "stream",
     "text": [
      "INFO:root:This is an info message.\n",
      "WARNING:root:This is a warning.\n",
      "ERROR:root:This is an error.\n"
     ]
    }
   ],
   "source": [
    "# 7. How do you log information at different levels (INFO, ERROR, WARNING) in Python using the logging module?\n",
    "import logging\n",
    "\n",
    "logging.basicConfig(level=logging.DEBUG)\n",
    "\n",
    "logging.info(\"This is an info message.\")\n",
    "logging.warning(\"This is a warning.\")\n",
    "logging.error(\"This is an error.\")\n"
   ]
  },
  {
   "cell_type": "code",
   "execution_count": 5,
   "id": "86e4e684-0250-4483-9bb3-f2c367dd69f8",
   "metadata": {},
   "outputs": [
    {
     "name": "stdout",
     "output_type": "stream",
     "text": [
      "An error occurred while opening the file. [Errno 2] No such file or directory: 'somefile.txt'\n"
     ]
    }
   ],
   "source": [
    "# 8. Write a program to handle a file opening error using exception handling?\n",
    "try:\n",
    "    with open('somefile.txt', 'r') as file:\n",
    "        print(file.read())\n",
    "except IOError as e:\n",
    "    print(\"An error occurred while opening the file.\", e)\n"
   ]
  },
  {
   "cell_type": "code",
   "execution_count": 4,
   "id": "9546eef0-93cf-468e-a9a4-a0ff184dedca",
   "metadata": {},
   "outputs": [
    {
     "name": "stdout",
     "output_type": "stream",
     "text": [
      "['Hello, World!\\n', 'Appended text']\n"
     ]
    }
   ],
   "source": [
    "# 9. How can you read a file line by line and store its content in a list in Python?\n",
    "with open('example.txt', 'r') as file:\n",
    "    lines = file.readlines()\n",
    "print(lines)\n"
   ]
  },
  {
   "cell_type": "code",
   "execution_count": 6,
   "id": "d84bf2fc-9f82-4778-a55c-6501eebdca79",
   "metadata": {},
   "outputs": [],
   "source": [
    "# 10. How can you append data to an existing file in Python?\n",
    "with open('example.txt', 'a') as file:\n",
    "    file.write('\\nAppended text')\n"
   ]
  },
  {
   "cell_type": "code",
   "execution_count": 10,
   "id": "b2e65e3a-2c1e-4c6a-85d6-dc51c216bcea",
   "metadata": {},
   "outputs": [
    {
     "name": "stdout",
     "output_type": "stream",
     "text": [
      "Key 'age' not found. 'age'\n"
     ]
    }
   ],
   "source": [
    "# 11. Write a Python program that uses a try-except block to handle an error when attempting to access a dictionary key that doesn't exist?\n",
    "data = {'name': 'Alice'}\n",
    "\n",
    "try:\n",
    "    print(data['age'])\n",
    "except KeyError as e:\n",
    "    print(\"Key 'age' not found.\",e)\n"
   ]
  },
  {
   "cell_type": "code",
   "execution_count": 14,
   "id": "268b3edc-8f88-483a-b002-8e902ff514db",
   "metadata": {},
   "outputs": [
    {
     "name": "stdout",
     "output_type": "stream",
     "text": [
      "List index out of range from list. list index out of range\n"
     ]
    }
   ],
   "source": [
    "# 12. Write a program that demonstrates using multiple except blocks to handle different types of exceptionsF\n",
    "try:\n",
    "    lst = [1, 2, 3]\n",
    "    print(lst[5])\n",
    "    data = {'a': 1}\n",
    "    print(data['b'])\n",
    "except IndexError as e:\n",
    "    print(\"List index out of range from list.\", e)\n",
    "except KeyError as e:\n",
    "    print(\"Dictionary key not found.\", e)\n"
   ]
  },
  {
   "cell_type": "code",
   "execution_count": 11,
   "id": "999ec972-4b3a-4ba2-8efd-01b05487a6e5",
   "metadata": {},
   "outputs": [
    {
     "name": "stdout",
     "output_type": "stream",
     "text": [
      "Hello, World!\n",
      "Appended text\n"
     ]
    }
   ],
   "source": [
    "# 13. How would you check if a file exists before attempting to read it in Python?\n",
    "import os\n",
    "\n",
    "if os.path.exists('example.txt'):\n",
    "    with open('example.txt') as f:\n",
    "        print(f.read())\n",
    "else:\n",
    "    print(\"File does not exist.\")\n"
   ]
  },
  {
   "cell_type": "code",
   "execution_count": 4,
   "id": "8cd104b0-3532-4d8b-822c-5591bbff5c75",
   "metadata": {},
   "outputs": [
    {
     "name": "stderr",
     "output_type": "stream",
     "text": [
      "INFO:root:Program started.\n",
      "ERROR:root:Division by zero error.\n"
     ]
    }
   ],
   "source": [
    "# 14. Write a program that uses the logging module to log both informational and error messages?\n",
    "import logging\n",
    "\n",
    "logging.basicConfig(filename='app.log', level=logging.INFO)\n",
    "logging.info(\"Program started.\")\n",
    "try:\n",
    "    1 / 0\n",
    "except ZeroDivisionError:\n",
    "    logging.error(\"Division by zero error.\")\n"
   ]
  },
  {
   "cell_type": "code",
   "execution_count": 15,
   "id": "dc5bf65d-1fa8-4d12-9173-d84b2a98cac3",
   "metadata": {},
   "outputs": [
    {
     "name": "stdout",
     "output_type": "stream",
     "text": [
      "Hello, World!\n",
      "Appended text\n"
     ]
    }
   ],
   "source": [
    "# 15. Write a Python program that prints the content of a file and handles the case when the file is empty?\n",
    "with open('example.txt', 'r') as file:\n",
    "    content = file.read()\n",
    "    if not content:\n",
    "        print(\"File is empty.\")\n",
    "    else:\n",
    "        print(content)\n"
   ]
  },
  {
   "cell_type": "code",
   "execution_count": 15,
   "id": "b1e7337b-05f8-4bf6-9fe2-2e96607e4c8a",
   "metadata": {},
   "outputs": [
    {
     "name": "stdout",
     "output_type": "stream",
     "text": [
      "Requirement already satisfied: memory-profiler in c:\\users\\dell\\appdata\\local\\programs\\python\\python313\\lib\\site-packages (0.61.0)\n",
      "Requirement already satisfied: psutil in c:\\users\\dell\\appdata\\local\\programs\\python\\python313\\lib\\site-packages (from memory-profiler) (7.0.0)\n",
      "ERROR: Could not find file C:\\Users\\DELL\\AppData\\Local\\Temp\\ipykernel_14136\\3203300751.py\n"
     ]
    },
    {
     "name": "stderr",
     "output_type": "stream",
     "text": [
      "\n",
      "[notice] A new release of pip is available: 25.0.1 -> 25.1.1\n",
      "[notice] To update, run: python.exe -m pip install --upgrade pip\n"
     ]
    },
    {
     "data": {
      "text/plain": [
       "[0, 1, 2, 3, 4, 5, 6, 7, 8, 9]"
      ]
     },
     "execution_count": 15,
     "metadata": {},
     "output_type": "execute_result"
    }
   ],
   "source": [
    "# 16. Demonstrate how to use memory profiling to check the memory usage of a small program?\n",
    "!pip install memory-profiler\n",
    "from memory_profiler import profile\n",
    "\n",
    "@profile\n",
    "def memory_test():\n",
    "    a = [i for i in range(10)]\n",
    "    return a\n",
    "\n",
    "memory_test()\n"
   ]
  },
  {
   "cell_type": "code",
   "execution_count": 16,
   "id": "eea3b53a-559d-440f-9bf9-c6cc2d66f9dd",
   "metadata": {},
   "outputs": [],
   "source": [
    "# 17. Write a Python program to create and write a list of numbers to a file, one number per line?\n",
    "numbers = list(range(1, 11))\n",
    "\n",
    "with open('numbers.txt', 'w') as f:\n",
    "    for num in numbers:\n",
    "        f.write(f\"{num}\\n\")\n"
   ]
  },
  {
   "cell_type": "code",
   "execution_count": 17,
   "id": "a8c38f69-ca2a-4947-9061-cdf26a464a6f",
   "metadata": {},
   "outputs": [],
   "source": [
    "# 18. How would you implement a basic logging setup that logs to a file with rotation after 1MB?\n",
    "import logging\n",
    "from logging.handlers import RotatingFileHandler\n",
    "\n",
    "handler = RotatingFileHandler('app.log', maxBytes=1024*1024, backupCount=3)\n",
    "logging.basicConfig(handlers=[handler], level=logging.INFO)\n",
    "logging.info(\"This is a log entry.\")\n"
   ]
  },
  {
   "cell_type": "code",
   "execution_count": 18,
   "id": "b911302a-3bef-431b-bcfe-c83f25451792",
   "metadata": {},
   "outputs": [
    {
     "name": "stdout",
     "output_type": "stream",
     "text": [
      "Index out of range. list index out of range\n"
     ]
    }
   ],
   "source": [
    "# 19. Write a program that handles both IndexError and KeyError using a try-except blockF\n",
    "try:\n",
    "    lst = [1, 2]\n",
    "    print(lst[3])\n",
    "    d = {'a': 1}\n",
    "    print(d['b'])\n",
    "except IndexError as e:\n",
    "    print(\"Index out of range.\",e)\n",
    "except KeyError as e:\n",
    "    print(\"Key not found.\",e)\n"
   ]
  },
  {
   "cell_type": "code",
   "execution_count": 19,
   "id": "c874fb60-2de2-43d7-ab2b-a487ac18a7cb",
   "metadata": {},
   "outputs": [
    {
     "name": "stdout",
     "output_type": "stream",
     "text": [
      "Hello, World!\n",
      "Appended text\n"
     ]
    }
   ],
   "source": [
    "# 20. How would you open a file and read its contents using a context manager in Python?\n",
    "with open('example.txt', 'r') as file:\n",
    "    content = file.read()\n",
    "    print(content)\n"
   ]
  },
  {
   "cell_type": "code",
   "execution_count": 20,
   "id": "f5dbe9dc-87a7-4f1a-9278-cae107124e30",
   "metadata": {},
   "outputs": [
    {
     "name": "stdout",
     "output_type": "stream",
     "text": [
      "The word 'hello' occurred 1 times.\n"
     ]
    }
   ],
   "source": [
    "# 21. Write a Python program that reads a file and prints the number of occurrences of a specific word?\n",
    "word_to_count = 'hello'\n",
    "count = 0\n",
    "\n",
    "with open('example.txt', 'r') as file:\n",
    "    for line in file:\n",
    "        count += line.lower().count(word_to_count.lower())\n",
    "\n",
    "print(f\"The word '{word_to_count}' occurred {count} times.\")\n"
   ]
  },
  {
   "cell_type": "code",
   "execution_count": 21,
   "id": "a0f97718-ad66-4ae8-b563-b1513c279f97",
   "metadata": {},
   "outputs": [
    {
     "name": "stdout",
     "output_type": "stream",
     "text": [
      "Hello, World!\n",
      "Appended text\n"
     ]
    }
   ],
   "source": [
    "# 22. How can you check if a file is empty before attempting to read its contents?\n",
    "import os\n",
    "\n",
    "if os.path.getsize('example.txt') == 0:\n",
    "    print(\"File is empty.\")\n",
    "else:\n",
    "    with open('example.txt') as f:\n",
    "        print(f.read())\n"
   ]
  },
  {
   "cell_type": "code",
   "execution_count": 1,
   "id": "b6c4ef94-8ab6-44f5-ab05-186246c4a008",
   "metadata": {},
   "outputs": [
    {
     "name": "stdout",
     "output_type": "stream",
     "text": [
      "\n"
     ]
    }
   ],
   "source": [
    "# 23. Write a Python program that writes to a log file when an error occurs during file handling?\n",
    "import logging\n",
    "\n",
    "missed_file = open('missing.txt','w')\n",
    "\n",
    "logging.basicConfig(filename='file_errors.log', level=logging.ERROR)\n",
    "\n",
    "try:\n",
    "    with open('missing.txt', 'r') as f:\n",
    "        print(f.read())\n",
    "except Exception as e:\n",
    "    logging.error(\"Error reading file: %s\", e)\n"
   ]
  },
  {
   "cell_type": "code",
   "execution_count": null,
   "id": "1c5b2977-d7e5-4928-a0bb-ea01cff1f9c8",
   "metadata": {},
   "outputs": [],
   "source": []
  }
 ],
 "metadata": {
  "kernelspec": {
   "display_name": "Python 3 (ipykernel)",
   "language": "python",
   "name": "python3"
  },
  "language_info": {
   "codemirror_mode": {
    "name": "ipython",
    "version": 3
   },
   "file_extension": ".py",
   "mimetype": "text/x-python",
   "name": "python",
   "nbconvert_exporter": "python",
   "pygments_lexer": "ipython3",
   "version": "3.13.2"
  }
 },
 "nbformat": 4,
 "nbformat_minor": 5
}
